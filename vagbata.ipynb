{
  "nbformat": 4,
  "nbformat_minor": 0,
  "metadata": {
    "colab": {
      "name": "vagbata.ipynb",
      "provenance": [],
      "collapsed_sections": [],
      "authorship_tag": "ABX9TyNVTo4kRktB59rAOE+qHO/g",
      "include_colab_link": true
    },
    "kernelspec": {
      "name": "python3",
      "display_name": "Python 3"
    },
    "language_info": {
      "name": "python"
    }
  },
  "cells": [
    {
      "cell_type": "markdown",
      "metadata": {
        "id": "view-in-github",
        "colab_type": "text"
      },
      "source": [
        "<a href=\"https://colab.research.google.com/github/neenumohan/Vagbata/blob/main/vagbata.ipynb\" target=\"_parent\"><img src=\"https://colab.research.google.com/assets/colab-badge.svg\" alt=\"Open In Colab\"/></a>"
      ]
    },
    {
      "cell_type": "code",
      "metadata": {
        "colab": {
          "base_uri": "https://localhost:8080/",
          "height": 206
        },
        "id": "ETbCRuLcplfy",
        "outputId": "7be3f1f6-f5f9-4854-cd09-4bcc244905d3"
      },
      "source": [
        "import numpy as np\n",
        "import pandas as pd\n",
        "import nltk\n",
        "df=pd.read_csv('vagbata.csv')\n",
        "df.head()"
      ],
      "execution_count": null,
      "outputs": [
        {
          "output_type": "execute_result",
          "data": {
            "text/html": [
              "<div>\n",
              "<style scoped>\n",
              "    .dataframe tbody tr th:only-of-type {\n",
              "        vertical-align: middle;\n",
              "    }\n",
              "\n",
              "    .dataframe tbody tr th {\n",
              "        vertical-align: top;\n",
              "    }\n",
              "\n",
              "    .dataframe thead th {\n",
              "        text-align: right;\n",
              "    }\n",
              "</style>\n",
              "<table border=\"1\" class=\"dataframe\">\n",
              "  <thead>\n",
              "    <tr style=\"text-align: right;\">\n",
              "      <th></th>\n",
              "      <th>Number</th>\n",
              "      <th>Lines</th>\n",
              "      <th>Author</th>\n",
              "    </tr>\n",
              "  </thead>\n",
              "  <tbody>\n",
              "    <tr>\n",
              "      <th>0</th>\n",
              "      <td>1</td>\n",
              "      <td>pakvāśaya-kaṭī-sakthi-śrotrāsthi-sparśanendriy...</td>\n",
              "      <td>AH</td>\n",
              "    </tr>\n",
              "    <tr>\n",
              "      <th>1</th>\n",
              "      <td>2</td>\n",
              "      <td>sthānaṃ vātasya tatrāpi pakvādhānaṃ viśeṣataḥ ...</td>\n",
              "      <td>AH</td>\n",
              "    </tr>\n",
              "    <tr>\n",
              "      <th>2</th>\n",
              "      <td>3</td>\n",
              "      <td>nābhir āmāśayaḥ svedo lasīkā rudhiraṃ rasaḥ |</td>\n",
              "      <td>AH</td>\n",
              "    </tr>\n",
              "    <tr>\n",
              "      <th>3</th>\n",
              "      <td>4</td>\n",
              "      <td>dṛk sparśanaṃ ca pittasya nābhir atra viśeṣata...</td>\n",
              "      <td>AH</td>\n",
              "    </tr>\n",
              "    <tr>\n",
              "      <th>4</th>\n",
              "      <td>5</td>\n",
              "      <td>uraḥ-kaṇṭha-śiraḥ-kloma-parvāṇy āmāśayo rasaḥ |</td>\n",
              "      <td>AH</td>\n",
              "    </tr>\n",
              "  </tbody>\n",
              "</table>\n",
              "</div>"
            ],
            "text/plain": [
              "   Number                                              Lines Author\n",
              "0       1  pakvāśaya-kaṭī-sakthi-śrotrāsthi-sparśanendriy...     AH\n",
              "1       2  sthānaṃ vātasya tatrāpi pakvādhānaṃ viśeṣataḥ ...     AH\n",
              "2       3      nābhir āmāśayaḥ svedo lasīkā rudhiraṃ rasaḥ |     AH\n",
              "3       4  dṛk sparśanaṃ ca pittasya nābhir atra viśeṣata...     AH\n",
              "4       5    uraḥ-kaṇṭha-śiraḥ-kloma-parvāṇy āmāśayo rasaḥ |     AH"
            ]
          },
          "metadata": {
            "tags": []
          },
          "execution_count": 23
        }
      ]
    },
    {
      "cell_type": "code",
      "metadata": {
        "id": "WuZ6AWK7qbUM"
      },
      "source": [
        "import string\n",
        "from nltk.corpus import stopwords\n",
        "from nltk.stem import WordNetLemmatizer\n",
        "lemmatizer=WordNetLemmatizer()\n",
        "def text(tex):\n",
        "  nopun=[char for char in tex if char not in string.punctuation]\n",
        "  nopun=''.join(nopun)\n",
        "  a=''\n",
        "  i=0\n",
        "  for i in range(len(nopun.split())):\n",
        "    b=lemmatizer.lemmatize(nopun.split()[i],pos=\"v\")\n",
        "    a=a+b+' '\n",
        "  return [word for word in a.split() if a.lower() not in stopwords.words('english')]"
      ],
      "execution_count": null,
      "outputs": []
    },
    {
      "cell_type": "code",
      "metadata": {
        "id": "POxkcVHYyg9-"
      },
      "source": [
        "from sklearn.preprocessing import LabelEncoder\n",
        "y=df['Author']\n",
        "labelencoder=LabelEncoder()\n",
        "y=labelencoder.fit_transform(y)"
      ],
      "execution_count": null,
      "outputs": []
    },
    {
      "cell_type": "code",
      "metadata": {
        "colab": {
          "base_uri": "https://localhost:8080/",
          "height": 490
        },
        "id": "xAfi3R-NzDyn",
        "outputId": "d544788b-f016-4fab-cdf1-8fe4ce328108"
      },
      "source": [
        "from PIL import Image\n",
        "from wordcloud import WordCloud\n",
        "import matplotlib.pyplot as plt\n",
        "x=df['Lines']\n",
        "wordcloud1=WordCloud().generate(x[0])\n",
        "\n",
        "wordcloud2=WordCloud().generate(x[21])\n",
        "print(x[0])\n",
        "print(df['Author'][0])\n",
        "plt.imshow(wordcloud1, interpolation='bilinear')\n",
        "plt.show()\n",
        "\n",
        "print(x[1])\n",
        "print(df['Author'][1])\n",
        "plt.imshow(wordcloud)\n",
        "print(x[21])\n",
        "print(df['Author'][21])\n",
        "plt.imshow(wordcloud2, interpolation='bilinear')\n",
        "plt.show()\n"
      ],
      "execution_count": null,
      "outputs": [
        {
          "output_type": "stream",
          "text": [
            "pakvāśaya-kaṭī-sakthi-śrotrāsthi-sparśanendriyam |\n",
            "AH\n"
          ],
          "name": "stdout"
        },
        {
          "output_type": "display_data",
          "data": {
            "image/png": "[encoded data removed]",
            "text/plain": [
              "<Figure size 432x288 with 1 Axes>"
            ]
          },
          "metadata": {
            "tags": [],
            "needs_background": "light"
          }
        },
        {
          "output_type": "stream",
          "text": [
            "athāto doṣabhedīyaṃ nāmādhyāyaṃ vyākhyāsyāmaḥ|\n",
            "AS\n"
          ],
          "name": "stdout"
        },
        {
          "output_type": "display_data",
          "data": {
            "image/png": "[encoded data removed]",
            "text/plain": [
              "<Figure size 432x288 with 1 Axes>"
            ]
          },
          "metadata": {
            "tags": [],
            "needs_background": "light"
          }
        }
      ]
    },
    {
      "cell_type": "code",
      "metadata": {
        "colab": {
          "base_uri": "https://localhost:8080/"
        },
        "id": "TredcxE_3w6F",
        "outputId": "99c8b8ac-952a-46f7-c19e-5d5b58f435d7"
      },
      "source": [
        "nltk.download('wordnet')"
      ],
      "execution_count": null,
      "outputs": [
        {
          "output_type": "stream",
          "text": [
            "[nltk_data] Downloading package wordnet to /root/nltk_data...\n",
            "[nltk_data]   Unzipping corpora/wordnet.zip.\n"
          ],
          "name": "stdout"
        },
        {
          "output_type": "execute_result",
          "data": {
            "text/plain": [
              "True"
            ]
          },
          "metadata": {
            "tags": []
          },
          "execution_count": 28
        }
      ]
    },
    {
      "cell_type": "code",
      "metadata": {
        "colab": {
          "base_uri": "https://localhost:8080/"
        },
        "id": "h2tCwMWc3-Ab",
        "outputId": "2bf8f5a2-5c65-4949-e848-79feeeb09e5c"
      },
      "source": [
        "nltk.download('stopwords')"
      ],
      "execution_count": null,
      "outputs": [
        {
          "output_type": "stream",
          "text": [
            "[nltk_data] Downloading package stopwords to /root/nltk_data...\n",
            "[nltk_data]   Unzipping corpora/stopwords.zip.\n"
          ],
          "name": "stdout"
        },
        {
          "output_type": "execute_result",
          "data": {
            "text/plain": [
              "True"
            ]
          },
          "metadata": {
            "tags": []
          },
          "execution_count": 30
        }
      ]
    },
    {
      "cell_type": "code",
      "metadata": {
        "id": "rcRFEO3r1W41"
      },
      "source": [
        "from sklearn.feature_extraction.text import CountVectorizer\n",
        "from sklearn.model_selection import train_test_split\n",
        "x_train,x_test,y_train,y_test=train_test_split(x,y,test_size=0.2,random_state=1234)\n",
        "bow_transformer=CountVectorizer(analyzer=text).fit(x_train)\n",
        "test_bow_train=bow_transformer.transform(x_train)\n",
        "test_bow_test=bow_transformer.transform(x_test)"
      ],
      "execution_count": null,
      "outputs": []
    },
    {
      "cell_type": "code",
      "metadata": {
        "id": "1iTIosqm4Fn_"
      },
      "source": [
        "from sklearn.naive_bayes import MultinomialNB\n",
        "model=MultinomialNB()\n",
        "model=model.fit(test_bow_train,y_train)"
      ],
      "execution_count": null,
      "outputs": []
    },
    {
      "cell_type": "code",
      "metadata": {
        "colab": {
          "base_uri": "https://localhost:8080/"
        },
        "id": "yyjMQLph8RVr",
        "outputId": "48704b2f-33fc-411a-dda2-33a2e65ec100"
      },
      "source": [
        "model.score(test_bow_train,y_train)"
      ],
      "execution_count": null,
      "outputs": [
        {
          "output_type": "execute_result",
          "data": {
            "text/plain": [
              "1.0"
            ]
          },
          "metadata": {
            "tags": []
          },
          "execution_count": 33
        }
      ]
    },
    {
      "cell_type": "code",
      "metadata": {
        "colab": {
          "base_uri": "https://localhost:8080/"
        },
        "id": "tmb5Xu6j8Z4v",
        "outputId": "0fe0fefa-b30e-4072-9293-347cfbb8b972"
      },
      "source": [
        "model.score(test_bow_test,y_test)"
      ],
      "execution_count": null,
      "outputs": [
        {
          "output_type": "execute_result",
          "data": {
            "text/plain": [
              "0.53125"
            ]
          },
          "metadata": {
            "tags": []
          },
          "execution_count": 34
        }
      ]
    },
    {
      "cell_type": "code",
      "metadata": {
        "colab": {
          "base_uri": "https://localhost:8080/"
        },
        "id": "F68KONjs8kIk",
        "outputId": "f3bcfa01-8182-405c-8122-f6e28dc52633"
      },
      "source": [
        "from sklearn.metrics import classification_report\n",
        "predictions=model.predict(test_bow_test)\n",
        "print(classification_report(y_test,predictions))"
      ],
      "execution_count": null,
      "outputs": [
        {
          "output_type": "stream",
          "text": [
            "              precision    recall  f1-score   support\n",
            "\n",
            "           0       0.50      0.80      0.62        15\n",
            "           1       0.62      0.29      0.40        17\n",
            "\n",
            "    accuracy                           0.53        32\n",
            "   macro avg       0.56      0.55      0.51        32\n",
            "weighted avg       0.57      0.53      0.50        32\n",
            "\n"
          ],
          "name": "stdout"
        }
      ]
    },
    {
      "cell_type": "code",
      "metadata": {
        "colab": {
          "base_uri": "https://localhost:8080/",
          "height": 132
        },
        "id": "Y9ogef208_Kn",
        "outputId": "e771fbf1-e374-4f08-8b7e-a2656a8335eb"
      },
      "source": [
        "from sklearn.metrics import confusion_matrix\n",
        "import numpy as np\n",
        "import itertools\n",
        "import matplotlib.pyplot as plt\n",
        "def plot_confusion_matrix(cm,classes,normalize=False,title='confusion matrix',cmap=plt.cm.blues):\n",
        "  if normalize:\n",
        "    cm=cm.astype('float')/cm.sum(axis=1)[:, np.newaxis]\n",
        "    print('Normalized confusion matrix')\n",
        "  else:\n",
        "    print('confusion matrix without normalization')\n",
        "print(cm)\n",
        "plt.imshow(cm,interpolation='nearest',cmap=cmap)\n",
        "plt.title(title)\n",
        "plt.colorbar()\n",
        "tick_marks=np.arrange(len(classes))\n",
        "plt.xticks=(tick_marks, classes, rotation=45)\n",
        "plt.yticks=(tick_marks, classes))\n",
        "fmt='.2f' if normalize else 'd'\n",
        "    thresh=cm.max()/2\n",
        "\n",
        "\n"
      ],
      "execution_count": null,
      "outputs": [
        {
          "output_type": "error",
          "ename": "SyntaxError",
          "evalue": "ignored",
          "traceback": [
            "\u001b[0;36m  File \u001b[0;32m\"<ipython-input-41-8468a62b68e6>\"\u001b[0;36m, line \u001b[0;32m16\u001b[0m\n\u001b[0;31m    plt.xticks=(tick_marks, classes, rotation=45)\u001b[0m\n\u001b[0m                                             ^\u001b[0m\n\u001b[0;31mSyntaxError\u001b[0m\u001b[0;31m:\u001b[0m invalid syntax\n"
          ]
        }
      ]
    },
    {
      "cell_type": "code",
      "metadata": {
        "id": "HIz6KXKICEZS"
      },
      "source": [
        "from google.colab import drive\n",
        "drive.mount('/content/drive')"
      ],
      "execution_count": null,
      "outputs": []
    }
  ]
}